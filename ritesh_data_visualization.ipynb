{
  "nbformat": 4,
  "nbformat_minor": 0,
  "metadata": {
    "colab": {
      "provenance": []
    },
    "kernelspec": {
      "name": "python3",
      "display_name": "Python 3"
    },
    "language_info": {
      "name": "python"
    }
  },
  "cells": [
    {
      "cell_type": "code",
      "execution_count": 1,
      "metadata": {
        "colab": {
          "base_uri": "https://localhost:8080/"
        },
        "id": "dxBBY2mRKwdk",
        "outputId": "e1dd80d3-d57f-43f3-800d-25feb54aafc8"
      },
      "outputs": [
        {
          "output_type": "stream",
          "name": "stdout",
          "text": [
            "Mounted at /content/drive\n"
          ]
        }
      ],
      "source": [
        "from google.colab import drive\n",
        "drive.mount('/content/drive')\n",
        "\n",
        "\n"
      ]
    },
    {
      "cell_type": "code",
      "source": [
        "import pandas as pd\n",
        "import matplotlib.pyplot as plt\n",
        "import numpy as np\n",
        "from datetime import datetime\n",
        "from datetime import timedelta\n",
        "import calendar"
      ],
      "metadata": {
        "id": "NXivWCWob2pv"
      },
      "execution_count": 209,
      "outputs": []
    },
    {
      "cell_type": "code",
      "source": [
        "\n",
        "# Load the Excel file with attendance data for all subjects\n",
        "file_name = \"/content/attendance_data.xlsx\"\n",
        "xlsx = pd.ExcelFile(file_name)\n"
      ],
      "metadata": {
        "id": "M_Z5kX0fb-FE"
      },
      "execution_count": 3,
      "outputs": []
    },
    {
      "cell_type": "code",
      "source": [
        "import pandas as pd\n",
        "import matplotlib.pyplot as plt\n",
        "\n",
        "# Load the Excel file\n",
        "xlsx = pd.ExcelFile(\"attendance_data.xlsx\")\n",
        "\n",
        "def string_to_datetime(dates):\n",
        "    \n",
        "    datetime_map = {}\n",
        "    for date in dates:\n",
        "\n",
        "      datetime_map[datetime.strptime(date, \"%d/%m/%y\")] = date\n",
        "    return datetime_map\n",
        "\n",
        "def date_format(dates):\n",
        "\n",
        "  for i in range(len(dates)):\n",
        "    try:\n",
        "        d,m,y = dates[i].split(\"/\")\n",
        "        if len(d)<2:\n",
        "          d = \"0\" +d\n",
        "        if len(m)<2:\n",
        "          m = \"0\" +m\n",
        "      \n",
        "        dates[i] = d+\"/\" +m +\"/\" +y\n",
        "    except:\n",
        "      print(\"Here\",dates[i])\n",
        "  return dates\n",
        "  \n",
        "\n",
        "\n",
        "\n",
        "\n",
        "\n",
        "\n",
        "\n",
        "def plot_attendance(weekly_attendance,datetime_map,subject):\n",
        "  histogram_y = []\n",
        "  week_dates = []\n",
        "  condition  =False\n",
        "  for week_no in range(0,5):\n",
        "    weekdates =[]\n",
        "    if week_no!=4:\n",
        "      histogram_y.append((start_date_datetime+timedelta(week_no*7+0)).strftime(\"%d/%m/%y\"))\n",
        "    \n",
        "    for day_no in range(0,7):\n",
        "    \n",
        "        \n",
        "      if start_date_datetime+timedelta(week_no*7+day_no)>last_day_dt:\n",
        "        #print(start_date_datetime+timedelta(week_no*7+day_no))\n",
        "        condition = True\n",
        "        week_dates[-1].extend(weekdates)\n",
        "        break\n",
        "      curr = datetime_map.get(start_date_datetime+timedelta(week_no*7+day_no),0)\n",
        "      if curr!=0:\n",
        "        weekdates.append(curr)\n",
        "    \n",
        "    if condition:\n",
        "      break\n",
        "    week_dates.append(weekdates)\n",
        "    \n",
        "  #print(week_dates)\n",
        "  #print()\n",
        "\n",
        "  histogram_x = []\n",
        "\n",
        "  for i in range(4):\n",
        "    count  = 0\n",
        "    for date in week_dates[i]:\n",
        "      #print(date,end=\" \")\n",
        "    \n",
        "      #print(weekly_attendance.loc[student_id,date].sum())\n",
        "      count += weekly_attendance.loc[student_id,date].sum()\n",
        "    histogram_x.append(count)\n",
        "\n",
        "  #print(histogram_y)\n",
        "  week_attendance = histogram_x\n",
        "  week_starts = histogram_y\n",
        "  week_starts = [datetime.strptime(d, '%d/%m/%y') for d in week_starts]\n",
        "\n",
        "  # Calculate bar widths\n",
        "  bar_widths = [(week_starts[i+1] - week_starts[i]).days for i in range(len(week_starts)-1)] + [7]\n",
        "\n",
        "  # Plot histogram\n",
        "  fig, ax = plt.subplots()\n",
        "  ax.bar(week_starts, week_attendance, width=bar_widths, align='edge', color='teal', edgecolor='black')\n",
        "\n",
        "  # Set x-axis ticks at the start of each week\n",
        "  ax.set_xticks(week_starts,labels=histogram_y)\n",
        "  ax.tick_params(axis='x', rotation=0, labelsize=8)\n",
        "\n",
        "  # Set x-axis label\n",
        "  ax.set_xlabel('Week starting on', fontsize=10)\n",
        "\n",
        "  # Set y-axis label\n",
        "  ax.set_ylabel('Attendance', fontsize=10)\n",
        "\n",
        "  # Set title\n",
        "  ax.set_title(' Student {} : Weekly Attendance for {}'.format(student_id,subject), fontsize=12)\n",
        "\n",
        "  # Show plot\n",
        "  plt.show()\n",
        "\n",
        "\n",
        "\n",
        "\n",
        "\n",
        "\n",
        "\n",
        "\n",
        "\n",
        "\n",
        "\n",
        "\n",
        "\n",
        "def weeklyAttendance():\n",
        "# Process each sheet separately\n",
        "  for subject in xlsx.sheet_names:\n",
        "      df = pd.read_excel(xlsx, sheet_name=subject, header=None)\n",
        "\n",
        "      # Extract the date column\n",
        "      dates = df.iloc[0, 3:].values.astype(str)\n",
        "      dates = date_format(dates)\n",
        "\n",
        "      datetime_map = string_to_datetime(dates)\n",
        "    \n",
        "\n",
        "      # Extract the student data\n",
        "      students = df.iloc[1:, :3]\n",
        "      students.columns = [\"Old Roll no\", \"New Roll no\", \"Name\"]\n",
        "      students[\"New Roll no\"] = students[\"New Roll no\"].str.strip()\n",
        "      students.set_index(\"New Roll no\", inplace=True)\n",
        "      students[\"Old Roll no\"] = students[\"Old Roll no\"].str.strip()\n",
        "      students[\"Name\"] = students[\"Name\"].str.strip()\n",
        "\n",
        "      # Convert attendance data to weekly totals\n",
        "      weekly_attendance = pd.DataFrame(index=students.index, columns=dates)\n",
        "      \n",
        "      for col in range(3, len(dates)+3):\n",
        "          # Convert attendance data to binary (1=attended, 0=absent)\n",
        "          attendance = df.iloc[1:, col].fillna(\"A\")\n",
        "          attendance = attendance.replace(\"A\",0)\n",
        "          attendance = attendance.replace(\"P\",1)\n",
        "\n",
        "          for i in range(len(students.index)):\n",
        "            student_id = students.index[i]\n",
        "            student_attendance = attendance.iloc[i]\n",
        "\n",
        "            weekly_attendance.iloc[i,col-3] = student_attendance\n",
        "      #print(weekly_attendance.loc[students.index[1],:])\n",
        "      plot_attendance(weekly_attendance,datetime_map,subject)\n",
        "    \n"
      ],
      "metadata": {
        "id": "K3xP-pglgq98"
      },
      "execution_count": 222,
      "outputs": []
    },
    {
      "cell_type": "code",
      "source": [
        "\n",
        "# student_id = \"TIT01\"\n",
        "# start_date = \"01/07/22\"\n",
        "student_id = input(\"Please enter the student roll no: \")\n",
        "start_date = input(\"Please enter the start date: \")\n",
        "start_date_datetime = datetime.strptime(start_date, \"%d/%m/%y\")\n",
        "\n",
        "year = start_date_datetime.year\n",
        "month = start_date_datetime.month\n",
        "last_day = calendar.monthrange(year, month)[1]\n",
        "last_day_dt = datetime( year,month,last_day )\n",
        "weeklyAttendance()\n",
        "\n",
        "\n",
        "\n",
        "\n",
        "\n"
      ],
      "metadata": {
        "colab": {
          "base_uri": "https://localhost:8080/",
          "height": 884
        },
        "id": "AZU9VGcCWOTe",
        "outputId": "ea1ca3e8-07a8-4a50-8c03-7509b62166ec"
      },
      "execution_count": 224,
      "outputs": [
        {
          "name": "stdout",
          "output_type": "stream",
          "text": [
            "Please enter the student roll no:TIT01\n",
            "Please enter the start date01/07/22\n"
          ]
        },
        {
          "output_type": "display_data",
          "data": {
            "text/plain": [
              "<Figure size 432x288 with 1 Axes>"
            ],
            "image/png": "[encoded data removed]"
          },
          "metadata": {
            "needs_background": "light"
          }
        },
        {
          "output_type": "display_data",
          "data": {
            "text/plain": [
              "<Figure size 432x288 with 1 Axes>"
            ],
            "image/png": "[encoded data removed]"
          },
          "metadata": {
            "needs_background": "light"
          }
        },
        {
          "output_type": "display_data",
          "data": {
            "text/plain": [
              "<Figure size 432x288 with 1 Axes>"
            ],
            "image/png": "[encoded data removed]"
          },
          "metadata": {
            "needs_background": "light"
          }
        }
      ]
    },
    {
      "cell_type": "code",
      "source": [
        "\n",
        "\n",
        "\n",
        "\n",
        "\n"
      ],
      "metadata": {
        "colab": {
          "base_uri": "https://localhost:8080/",
          "height": 495
        },
        "id": "kQuBECjkcWct",
        "outputId": "2624cc85-82da-433f-fe26-625c4f9f51f4"
      },
      "execution_count": 201,
      "outputs": [
        {
          "output_type": "stream",
          "name": "stdout",
          "text": [
            "[[], [], ['18/07/22', '19/07/22', '20/07/22', '21/07/22'], ['22/07/22', '25/07/22', '26/07/22', '27/07/22']]\n",
            "\n",
            "18/07/22 0\n",
            "19/07/22 1\n",
            "20/07/22 0\n",
            "21/07/22 1\n",
            "22/07/22 1\n",
            "25/07/22 2\n",
            "26/07/22 1\n",
            "27/07/22 1\n",
            "['01/07/22', '08/07/22', '15/07/22', '22/07/22']\n"
          ]
        },
        {
          "output_type": "display_data",
          "data": {
            "text/plain": [
              "<Figure size 432x288 with 1 Axes>"
            ],
            "image/png": "[encoded data removed]"
          },
          "metadata": {
            "needs_background": "light"
          }
        }
      ]
    },
    {
      "cell_type": "code",
      "source": [
        "\n",
        "\n",
        "\n",
        "\n"
      ],
      "metadata": {
        "colab": {
          "base_uri": "https://localhost:8080/",
          "height": 531
        },
        "id": "O8B7jUw5wf3S",
        "outputId": "345e3ab8-00ae-4059-f746-0d880009f9d5"
      },
      "execution_count": 208,
      "outputs": [
        {
          "output_type": "stream",
          "name": "stdout",
          "text": [
            "2022-08-01 00:00:00\n",
            "[[], [], ['18/07/22', '19/07/22', '20/07/22', '21/07/22'], ['22/07/22', '25/07/22', '26/07/22', '27/07/22', '29/07/22']]\n",
            "\n",
            "18/07/22 2\n",
            "19/07/22 1\n",
            "20/07/22 1\n",
            "21/07/22 2\n",
            "22/07/22 1\n",
            "25/07/22 2\n",
            "26/07/22 1\n",
            "27/07/22 0\n",
            "29/07/22 1\n",
            "['01/07/22', '08/07/22', '15/07/22', '22/07/22']\n"
          ]
        },
        {
          "output_type": "display_data",
          "data": {
            "text/plain": [
              "<Figure size 432x288 with 1 Axes>"
            ],
            "image/png": "[encoded data removed]"
          },
          "metadata": {
            "needs_background": "light"
          }
        }
      ]
    },
    {
      "cell_type": "code",
      "source": [],
      "metadata": {
        "id": "TKiCspT__0UW"
      },
      "execution_count": null,
      "outputs": []
    },
    {
      "cell_type": "code",
      "source": [],
      "metadata": {
        "id": "7RvOJZQB8QZ_"
      },
      "execution_count": null,
      "outputs": []
    }
  ]
}